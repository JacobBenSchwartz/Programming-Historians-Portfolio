{
 "cells": [
  {
   "cell_type": "markdown",
   "id": "7dbd150b",
   "metadata": {},
   "source": [
    "Creating GUIs in Python for Digital Humanities Projects\n",
    "-----"
   ]
  },
  {
   "cell_type": "markdown",
   "id": "ff68747b",
   "metadata": {},
   "source": [
    "Lesson found here: https://programminghistorian.org/en/lessons/creating-guis-in-python-for-digital-humanities-projects#additional-resources"
   ]
  },
  {
   "cell_type": "code",
   "execution_count": 1,
   "id": "398e2b9a",
   "metadata": {},
   "outputs": [
    {
     "name": "stdout",
     "output_type": "stream",
     "text": [
      "Collecting PyQt5\n",
      "  Downloading PyQt5-5.15.11-cp38-abi3-manylinux_2_17_x86_64.whl.metadata (2.1 kB)\n",
      "Collecting PyQt5-sip<13,>=12.15 (from PyQt5)\n",
      "  Downloading PyQt5_sip-12.17.0-cp312-cp312-manylinux_2_5_x86_64.manylinux1_x86_64.whl.metadata (472 bytes)\n",
      "Collecting PyQt5-Qt5<5.16.0,>=5.15.2 (from PyQt5)\n",
      "  Downloading PyQt5_Qt5-5.15.16-1-py3-none-manylinux2014_x86_64.whl.metadata (536 bytes)\n",
      "Downloading PyQt5-5.15.11-cp38-abi3-manylinux_2_17_x86_64.whl (8.2 MB)\n",
      "\u001b[2K   \u001b[90m━━━━━━━━━━━━━━━━━━━━━━━━━━━━━━━━━━━━━━━━\u001b[0m \u001b[32m8.2/8.2 MB\u001b[0m \u001b[31m19.3 MB/s\u001b[0m eta \u001b[36m0:00:00\u001b[0m00:01\u001b[0m\n",
      "\u001b[?25hDownloading PyQt5_Qt5-5.15.16-1-py3-none-manylinux2014_x86_64.whl (61.1 MB)\n",
      "\u001b[2K   \u001b[90m━━━━━━━━━━━━━━━━━━━━━━━━━━━━━━━━━━━━━━━━\u001b[0m \u001b[32m61.1/61.1 MB\u001b[0m \u001b[31m51.5 MB/s\u001b[0m eta \u001b[36m0:00:00\u001b[0m:00:01\u001b[0m00:01\u001b[0m\n",
      "\u001b[?25hDownloading PyQt5_sip-12.17.0-cp312-cp312-manylinux_2_5_x86_64.manylinux1_x86_64.whl (281 kB)\n",
      "Installing collected packages: PyQt5-Qt5, PyQt5-sip, PyQt5\n",
      "Successfully installed PyQt5-5.15.11 PyQt5-Qt5-5.15.16 PyQt5-sip-12.17.0\n",
      "\n",
      "\u001b[1m[\u001b[0m\u001b[34;49mnotice\u001b[0m\u001b[1;39;49m]\u001b[0m\u001b[39;49m A new release of pip is available: \u001b[0m\u001b[31;49m25.0.1\u001b[0m\u001b[39;49m -> \u001b[0m\u001b[32;49m25.1\u001b[0m\n",
      "\u001b[1m[\u001b[0m\u001b[34;49mnotice\u001b[0m\u001b[1;39;49m]\u001b[0m\u001b[39;49m To update, run: \u001b[0m\u001b[32;49mpip install --upgrade pip\u001b[0m\n",
      "Note: you may need to restart the kernel to use updated packages.\n"
     ]
    }
   ],
   "source": [
    "%pip install PyQt5"
   ]
  },
  {
   "cell_type": "markdown",
   "id": "08052730",
   "metadata": {},
   "source": [
    "Installed Qt Designer to my Mac. "
   ]
  },
  {
   "cell_type": "code",
   "execution_count": 3,
   "id": "6ae0f5a1",
   "metadata": {},
   "outputs": [
    {
     "name": "stdout",
     "output_type": "stream",
     "text": [
      "Collecting pyinstaller\n",
      "  Downloading pyinstaller-6.13.0-py3-none-manylinux2014_x86_64.whl.metadata (8.3 kB)\n",
      "Requirement already satisfied: setuptools>=42.0.0 in /home/codespace/.local/lib/python3.12/site-packages (from pyinstaller) (76.0.0)\n",
      "Collecting altgraph (from pyinstaller)\n",
      "  Downloading altgraph-0.17.4-py2.py3-none-any.whl.metadata (7.3 kB)\n",
      "Collecting pyinstaller-hooks-contrib>=2025.2 (from pyinstaller)\n",
      "  Downloading pyinstaller_hooks_contrib-2025.3-py3-none-any.whl.metadata (16 kB)\n",
      "Requirement already satisfied: packaging>=22.0 in /home/codespace/.local/lib/python3.12/site-packages (from pyinstaller) (24.2)\n",
      "Downloading pyinstaller-6.13.0-py3-none-manylinux2014_x86_64.whl (721 kB)\n",
      "\u001b[2K   \u001b[90m━━━━━━━━━━━━━━━━━━━━━━━━━━━━━━━━━━━━━━━━\u001b[0m \u001b[32m721.0/721.0 kB\u001b[0m \u001b[31m24.1 MB/s\u001b[0m eta \u001b[36m0:00:00\u001b[0m\n",
      "\u001b[?25hDownloading pyinstaller_hooks_contrib-2025.3-py3-none-any.whl (434 kB)\n",
      "Downloading altgraph-0.17.4-py2.py3-none-any.whl (21 kB)\n",
      "Installing collected packages: altgraph, pyinstaller-hooks-contrib, pyinstaller\n",
      "Successfully installed altgraph-0.17.4 pyinstaller-6.13.0 pyinstaller-hooks-contrib-2025.3\n",
      "\n",
      "\u001b[1m[\u001b[0m\u001b[34;49mnotice\u001b[0m\u001b[1;39;49m]\u001b[0m\u001b[39;49m A new release of pip is available: \u001b[0m\u001b[31;49m25.0.1\u001b[0m\u001b[39;49m -> \u001b[0m\u001b[32;49m25.1\u001b[0m\n",
      "\u001b[1m[\u001b[0m\u001b[34;49mnotice\u001b[0m\u001b[1;39;49m]\u001b[0m\u001b[39;49m To update, run: \u001b[0m\u001b[32;49mpip install --upgrade pip\u001b[0m\n",
      "Note: you may need to restart the kernel to use updated packages.\n"
     ]
    }
   ],
   "source": [
    "%pip install -U pyinstaller"
   ]
  },
  {
   "cell_type": "markdown",
   "id": "267c95c6",
   "metadata": {},
   "source": [
    "## Creating the User Interface Functionality\n",
    "Copy and pasted from PDFFileMerger.py"
   ]
  },
  {
   "cell_type": "code",
   "execution_count": 3,
   "id": "fc03f074",
   "metadata": {},
   "outputs": [
    {
     "ename": "ImportError",
     "evalue": "libGL.so.1: cannot open shared object file: No such file or directory",
     "output_type": "error",
     "traceback": [
      "\u001b[31m---------------------------------------------------------------------------\u001b[39m",
      "\u001b[31mImportError\u001b[39m                               Traceback (most recent call last)",
      "\u001b[36mCell\u001b[39m\u001b[36m \u001b[39m\u001b[32mIn[3]\u001b[39m\u001b[32m, line 11\u001b[39m\n\u001b[32m      1\u001b[39m \u001b[38;5;66;03m# -*- coding: utf-8 -*-\u001b[39;00m\n\u001b[32m      2\u001b[39m \n\u001b[32m      3\u001b[39m \u001b[38;5;66;03m# Form implementation generated from reading ui file 'PDFFileMerger.ui'\u001b[39;00m\n\u001b[32m   (...)\u001b[39m\u001b[32m      7\u001b[39m \u001b[38;5;66;03m# WARNING: Any manual changes made to this file will be lost when pyuic5 is\u001b[39;00m\n\u001b[32m      8\u001b[39m \u001b[38;5;66;03m# run again.  Do not edit this file unless you know what you are doing.\u001b[39;00m\n\u001b[32m---> \u001b[39m\u001b[32m11\u001b[39m \u001b[38;5;28;01mfrom\u001b[39;00m\u001b[38;5;250m \u001b[39m\u001b[34;01mPyQt5\u001b[39;00m\u001b[38;5;250m \u001b[39m\u001b[38;5;28;01mimport\u001b[39;00m QtCore, QtGui, QtWidgets\n\u001b[32m     12\u001b[39m \u001b[38;5;28;01mfrom\u001b[39;00m\u001b[38;5;250m \u001b[39m\u001b[34;01mPyQt5\u001b[39;00m\u001b[34;01m.\u001b[39;00m\u001b[34;01mQtCore\u001b[39;00m\u001b[38;5;250m \u001b[39m\u001b[38;5;28;01mimport\u001b[39;00m QObject, pyqtSlot\n\u001b[32m     13\u001b[39m \u001b[38;5;28;01mfrom\u001b[39;00m\u001b[38;5;250m \u001b[39m\u001b[34;01mPyPDF4\u001b[39;00m\u001b[38;5;250m \u001b[39m\u001b[38;5;28;01mimport\u001b[39;00m PdfFileMerger\n",
      "\u001b[31mImportError\u001b[39m: libGL.so.1: cannot open shared object file: No such file or directory"
     ]
    }
   ],
   "source": [
    "# -*- coding: utf-8 -*-\n",
    "\n",
    "# Form implementation generated from reading ui file 'PDFFileMerger.ui'\n",
    "#\n",
    "# Created by: PyQt5 UI code generator 5.15.11\n",
    "#\n",
    "# WARNING: Any manual changes made to this file will be lost when pyuic5 is\n",
    "# run again.  Do not edit this file unless you know what you are doing.\n",
    "\n",
    "\n",
    "from PyQt5 import QtCore, QtGui, QtWidgets\n",
    "from PyQt5.QtCore import QObject, pyqtSlot\n",
    "from PyPDF4 import PdfFileMerger\n",
    "\n",
    "class Ui_Dialog(QObject):\n",
    "    def setupUi(self, Dialog):\n",
    "        Dialog.setObjectName(\"Dialog\")\n",
    "        Dialog.resize(667, 514)\n",
    "        self.title_label = QtWidgets.QLabel(Dialog)\n",
    "        self.title_label.setGeometry(QtCore.QRect(250, 30, 291, 41))\n",
    "        font = QtGui.QFont()\n",
    "        font.setPointSize(26)\n",
    "        self.title_label.setFont(font)\n",
    "        self.title_label.setObjectName(\"title_label\")\n",
    "        self.merge_button = QtWidgets.QPushButton(Dialog)\n",
    "        self.merge_button.setGeometry(QtCore.QRect(230, 400, 225, 45))\n",
    "        self.merge_button.setObjectName(\"merge_button\")\n",
    "        self.file_list_widget = ListDragWidget(Dialog)\n",
    "        self.file_list_widget.setGeometry(QtCore.QRect(70, 100, 531, 261))\n",
    "        self.file_list_widget.setObjectName(\"file_list_widget\")\n",
    "        self.box_label = QtWidgets.QLabel(Dialog)\n",
    "        self.box_label.setGeometry(QtCore.QRect(130, 60, 131, 16))\n",
    "        self.box_label.setObjectName(\"box_label\")\n",
    "\n",
    "        self.retranslateUi(Dialog)\n",
    "        self.merge_button.clicked.connect(self.mergeDocSlot) # type: ignore\n",
    "        QtCore.QMetaObject.connectSlotsByName(Dialog)\n",
    "\n",
    "    def retranslateUi(self, Dialog):\n",
    "        _translate = QtCore.QCoreApplication.translate\n",
    "        Dialog.setWindowTitle(_translate(\"Dialog\", \"Dialog\"))\n",
    "        self.title_label.setText(_translate(\"Dialog\", \"PDF File Merger\"))\n",
    "        self.merge_button.setText(_translate(\"Dialog\", \"Merge Files\"))\n",
    "        self.box_label.setText(_translate(\"Dialog\", \"Drag and Drop PDFs\"))\n",
    "\n",
    "    @pyqtSlot()\n",
    "    def mergeDocSlot(self):\n",
    "        output_file_name = 'merged.pdf'  # default name for file output\n",
    "\n",
    "        if self.file_list_widget.count() > 1:  # no merging unless there are enough documents to merge\n",
    "\n",
    "            options = QtWidgets.QFileDialog.Options()\n",
    "            options |= QtWidgets.QFileDialog.DontUseNativeDialog\n",
    "            output_file_name, _ = QtWidgets.QFileDialog.getSaveFileName(\n",
    "                None, \"Save File\", \"merged\", \"PDF File (*.pdf)\", options=options)\n",
    "\n",
    "            for i in range(self.file_list_widget.count()):\n",
    "                if output_file_name + \".pdf\" == self.file_list_widget.item(i).text():\n",
    "                    error_message = QtWidgets.QMessageBox.critical(None, \"Error!\", \"Error! Your file name is already in use!\")\n",
    "                    return error_message\n",
    "\n",
    "            if output_file_name:  # check to make sure there is a name\n",
    "                # user's file name won't include .pdf unless they type it in\n",
    "                output_file_name = output_file_name + '.pdf'\n",
    "\n",
    "                # create PDF merger object\n",
    "                pdf_merger = PdfFileMerger(open(output_file_name, \"wb\"))\n",
    "\n",
    "                for i in range(self.file_list_widget.count()):\n",
    "                    # get everything from the file list\n",
    "                    pdf_merger.append(self.file_list_widget.item(i).text())\n",
    "\n",
    "                pdf_merger.write(output_file_name)\n",
    "                pdf_merger.close()\n",
    "\n",
    "                success_message = QtWidgets.QMessageBox.information(None, \"Files Merged\", f\"{output_file_name} has been successfully written!\")\n",
    "\n",
    "if __name__ == \"__main__\":\n",
    "    import sys\n",
    "    app = QtWidgets.QApplication(sys.argv)\n",
    "    Dialog = QtWidgets.QDialog()\n",
    "    ui = Ui_Dialog()\n",
    "    ui.setupUi(Dialog)\n",
    "    Dialog.show()\n",
    "    sys.exit(app.exec_())\n",
    "\n",
    "\n",
    "\n",
    "class ListDragWidget(QtWidgets.QListWidget):\n",
    "    \"\"\"Creates a list widget that allows user to drag and drop PDF files\n",
    "    into the widget area to add these files.\"\"\"\n",
    "    def __init__(self, parent):\n",
    "        super(ListDragWidget, self).__init__(parent)\n",
    "        self.setAcceptDrops(True)\n",
    "        self.setDragDropMode(QtWidgets.QAbstractItemView.InternalMove)\n",
    "    \n",
    "    def dragEnterEvent(self, event):\n",
    "        if event.mimeData().hasUrls():\n",
    "            event.acceptProposedAction()\n",
    "        else:\n",
    "            super(ListDragWidget, self).dragEnterEvent(event)\n",
    "\n",
    "    def dragMoveEvent(self, event):\n",
    "        super(ListDragWidget, self).dragMoveEvent(event)\n",
    "\n",
    "    def dropEvent(self, event):\n",
    "        if event.mimeData().hasUrls():\n",
    "            for file in event.mimeData().urls():\n",
    "                if file.path().endswith('.pdf'): # make sure it is a PDF file\n",
    "                    self.addItem(file.toLocalFIle())\n",
    "        else:\n",
    "            super(ListDragWidget, self).dropEvent(event)"
   ]
  }
 ],
 "metadata": {
  "kernelspec": {
   "display_name": "Python 3",
   "language": "python",
   "name": "python3"
  },
  "language_info": {
   "codemirror_mode": {
    "name": "ipython",
    "version": 3
   },
   "file_extension": ".py",
   "mimetype": "text/x-python",
   "name": "python",
   "nbconvert_exporter": "python",
   "pygments_lexer": "ipython3",
   "version": "3.12.1"
  }
 },
 "nbformat": 4,
 "nbformat_minor": 5
}
